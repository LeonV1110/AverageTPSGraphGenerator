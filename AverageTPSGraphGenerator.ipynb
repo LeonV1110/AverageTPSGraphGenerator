{
 "cells": [
  {
   "cell_type": "markdown",
   "id": "7b753934",
   "metadata": {},
   "source": [
    "# Run cells below to install required libraries"
   ]
  },
  {
   "cell_type": "code",
   "execution_count": null,
   "id": "386e7b6f",
   "metadata": {},
   "outputs": [],
   "source": [
    "import sys\n",
    "!{sys.executable} -m pip install pymysql\n",
    "!{sys.executable} -m pip install pandas\n",
    "!{sys.executable} -m pip install plotly"
   ]
  },
  {
   "cell_type": "markdown",
   "id": "3ad69152",
   "metadata": {},
   "source": [
    "# Fill in the variables in the cell below"
   ]
  },
  {
   "cell_type": "code",
   "execution_count": null,
   "id": "f57ae8b1",
   "metadata": {},
   "outputs": [],
   "source": [
    "DATABASEUSER = 'squadjs'\n",
    "DATABASEPSWD = 'password'\n",
    "DATABASEHOST = '127.0.0.1'\n",
    "DATABASENAME = 'squadjs'\n",
    "DATABASEPORT = 3306 # default port, may be different depending on your setup\n",
    "\n",
    "SERVERNUMBER_UE5 = 2 \n",
    "SERVERNUMBER_UE4 = 1\n",
    "\n",
    "TIMEZONE = \"UTC\" # Depends on servertime, not local time without daylight savings zones (no EDT, just EST)"
   ]
  },
  {
   "cell_type": "markdown",
   "id": "37c0fbeb",
   "metadata": {},
   "source": [
    "# Don't touch below, just run the cells"
   ]
  },
  {
   "cell_type": "code",
   "execution_count": null,
   "id": "c779c37d",
   "metadata": {},
   "outputs": [],
   "source": [
    "import pymysql\n",
    "import pandas as pd\n",
    "from datetime import datetime\n",
    "from zoneinfo import ZoneInfo\n",
    "import plotly.graph_objects as go"
   ]
  },
  {
   "cell_type": "code",
   "execution_count": null,
   "id": "0b0f5b2d",
   "metadata": {},
   "outputs": [],
   "source": [
    "def connect_database() -> pymysql.connections.Connection:\n",
    "    connection = pymysql.connect(host=DATABASEHOST, user = DATABASEUSER, password= DATABASEPSWD, charset='utf8mb4', cursorclass=pymysql.cursors.DictCursor, database=DATABASENAME, port=DATABASEPORT)\n",
    "    return connection\n"
   ]
  },
  {
   "cell_type": "code",
   "execution_count": null,
   "id": "8fc206e7",
   "metadata": {},
   "outputs": [],
   "source": [
    "def generate_matches_list(serverNum):\n",
    "    \n",
    "    utcStartTime = datetime(2025, 5, 30, 18, 0, 0, tzinfo=ZoneInfo(\"UTC\"))\n",
    "    startTimeStr = utcStartTime.astimezone(ZoneInfo(TIMEZONE)).strftime('%Y-%m-%d %H:%M:%S')\n",
    "    utcEndTime = datetime(2025, 6, 2, 18, 0, 0, tzinfo=ZoneInfo(\"UTC\"))\n",
    "    endTimeStr = utcEndTime.astimezone(ZoneInfo(TIMEZONE)).strftime('%Y-%m-%d %H:%M:%S')\n",
    "\n",
    "    with connect_database() as connection:\n",
    "        with connection.cursor() as cursor:\n",
    "            sql = f'SELECT id FROM squadjs.DBLog_Matches WHERE squadjs.DBLog_Matches.server = {serverNum} AND startTime > \"{startTimeStr}\" AND startTime < \"{endTimeStr}\";'\n",
    "            cursor.execute(sql)\n",
    "            results = cursor.fetchall()\n",
    "    matches = []\n",
    "    for v in results:\n",
    "        matches.append(v['id'])\n",
    "    return matches"
   ]
  },
  {
   "cell_type": "code",
   "execution_count": null,
   "id": "17536dce",
   "metadata": {},
   "outputs": [],
   "source": [
    "def generateGraphDf(matches):\n",
    "    dfs = []\n",
    "    for match in matches:\n",
    "        sql = \"SELECT * FROM squadjs.DBLog_TickRates WHERE squadjs.DBLog_TickRates.match = %s\"\n",
    "        with connect_database() as connection:\n",
    "            with connection.cursor() as cursor:\n",
    "                cursor.execute(sql, match)\n",
    "                result = cursor.fetchall()\n",
    "                if (pd.DataFrame(result).shape[0] > 180 and pd.DataFrame(result).shape[0] < 720):\n",
    "                    dfs.append(result)\n",
    "    dfs = sorted(dfs, key= lambda df: pd.DataFrame(df).shape[0], reverse=True)\n",
    "\n",
    "    new_dfs = []\n",
    "    for df in dfs:\n",
    "        df = pd.DataFrame(df)\n",
    "        startTime = df['time'][0]\n",
    "        df['time'] = df.apply(lambda row : (row['time'] - startTime).total_seconds(), axis=1)\n",
    "        df.drop(df.tail(18).index, inplace=True)\n",
    "        new_dfs.append(df)\n",
    "    main_df = pd.DataFrame()\n",
    "    for i in range(len(dfs)):\n",
    "        df = new_dfs[i]\n",
    "        match = matches[i]\n",
    "        colName = f'TPS_Match_{match}'\n",
    "        #colNames.append(colName)\n",
    "        \n",
    "        main_df[colName] = df['tickRate']\n",
    "\n",
    "    main_df['totalTPS'] = main_df.sum(axis=1)\n",
    "    main_df['MissingValueCount'] = main_df.isna().sum(axis=1)\n",
    "    main_df['avgTPS'] = main_df.apply(lambda row: row['totalTPS']/(len(dfs) - row['MissingValueCount']), axis=1)\n",
    "    main_df['time'] = main_df.index\n",
    "    main_df.time = main_df.apply(lambda row : row.time/6, axis=1)\n",
    "\n",
    "    return main_df    "
   ]
  },
  {
   "cell_type": "code",
   "execution_count": null,
   "id": "9c73fbbb",
   "metadata": {},
   "outputs": [],
   "source": [
    "\n",
    "\n",
    "matchesUE5 = generate_matches_list(SERVERNUMBER_UE5)\n",
    "matchesUE4 = generate_matches_list(SERVERNUMBER_UE4)\n",
    "\n",
    "UE5DF = generateGraphDf(matchesUE5)\n",
    "UE4DF = generateGraphDf(matchesUE4)\n",
    "\n",
    "main_df = pd.DataFrame()\n",
    "\n",
    "UE4DF = generateGraphDf(matchesUE4)\n",
    "if (UE5DF.shape[0]> UE4DF.shape[0]):\n",
    "    main_df['time'] = UE5DF.time\n",
    "    main_df['UE5_TPS'] = UE5DF.avgTPS\n",
    "    main_df['UE4_TPS'] = UE4DF.avgTPS\n",
    "else:\n",
    "    main_df['time'] = UE4DF.time\n",
    "    main_df['UE4_TPS'] = UE4DF.avgTPS\n",
    "    main_df['UE5_TPS'] = UE5DF.avgTPS"
   ]
  },
  {
   "cell_type": "code",
   "execution_count": null,
   "id": "4d1bc581",
   "metadata": {},
   "outputs": [],
   "source": [
    "fig = go.Figure(layout=dict(\n",
    "    title=dict(text = 'Average TPS during a match',\n",
    "               subtitle = dict(text = 'Graph generated by [DoD] Leon')\n",
    "               ),\n",
    "    xaxis=dict(title = dict( text = 'Time (Minutes)')),\n",
    "    yaxis=dict(title = dict( text = 'TPS (Ticks per Second)')),\n",
    "    legend = dict(title = dict(text = 'Version of Unreal Engine'))\n",
    "))\n",
    "fig.add_trace(go.Scatter(x= main_df.time, y= main_df.UE4_TPS, name = 'UE4'))\n",
    "fig.add_trace(go.Scatter(x= main_df.time, y= main_df.UE5_TPS, name = 'UE5'))\n",
    "fig.update_xaxes(range = [0, 120])\n",
    "fig.update_yaxes(range = [0, 70])\n",
    "fig.show()\n",
    "\n",
    "fig.write_html('avgTPSGraph.html')"
   ]
  }
 ],
 "metadata": {
  "kernelspec": {
   "display_name": "Python 3",
   "language": "python",
   "name": "python3"
  },
  "language_info": {
   "codemirror_mode": {
    "name": "ipython",
    "version": 3
   },
   "file_extension": ".py",
   "mimetype": "text/x-python",
   "name": "python",
   "nbconvert_exporter": "python",
   "pygments_lexer": "ipython3",
   "version": "3.12.4"
  }
 },
 "nbformat": 4,
 "nbformat_minor": 5
}
